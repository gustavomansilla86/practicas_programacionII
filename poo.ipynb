{
 "cells": [
  {
   "cell_type": "code",
   "execution_count": null,
   "metadata": {},
   "outputs": [],
   "source": [
    "class Vehiculo:\n",
    "    def __init__(self, marca, modelo, año, km, precio):\n",
    "        self.marca = marca\n",
    "        self.modelo = modelo\n",
    "        self.año=año\n",
    "        self.km = km\n",
    "        self.precio=precio\n",
    " \n",
    "    class Auto:\n",
    "        "
   ]
  },
  {
   "cell_type": "code",
   "execution_count": 2,
   "metadata": {},
   "outputs": [],
   "source": [
    "class EjemploPersona:\n",
    "    pass"
   ]
  },
  {
   "cell_type": "code",
   "execution_count": 3,
   "metadata": {},
   "outputs": [],
   "source": [
    "class Choche:\n",
    "    def __init__(self,color,marca,modelo):\n",
    "        self.color=color\n",
    "        self.marca=marca\n",
    "        self.modelo=modelo"
   ]
  },
  {
   "cell_type": "code",
   "execution_count": 8,
   "metadata": {},
   "outputs": [
    {
     "name": "stdout",
     "output_type": "stream",
     "text": [
      "focus\n",
      "cronos\n",
      "azul\n"
     ]
    }
   ],
   "source": [
    "coche1=Choche(color=\"azul\",marca=\"renaul\",modelo=\"koleos\")\n",
    "coche2=Choche(color=\"rojo\",marca=\"ford\",modelo=\"focus\")\n",
    "coche1.color\n",
    "coche2.modelo\n",
    "coche2.marca\n",
    "coche3=Choche(\"verde\",\"fiat\",\"cronos\")\n",
    "coche3.color\n",
    "print(coche2.modelo)\n",
    "print(coche3.modelo)\n",
    "print(coche1.color)"
   ]
  },
  {
   "cell_type": "code",
   "execution_count": 21,
   "metadata": {},
   "outputs": [
    {
     "name": "stdout",
     "output_type": "stream",
     "text": [
      "[]\n"
     ]
    }
   ],
   "source": [
    "class Gato:\n",
    "    patas= 4\n",
    "    orejas =2\n",
    "    nombres=[]\n",
    "    def __init__(self,nombre):\n",
    "        self.nombre=nombre\n",
    "        self.nombres.append(nombre)\n",
    "    print(nombres)"
   ]
  },
  {
   "cell_type": "code",
   "execution_count": 20,
   "metadata": {},
   "outputs": [
    {
     "data": {
      "text/plain": [
       "(4, 2)"
      ]
     },
     "execution_count": 20,
     "metadata": {},
     "output_type": "execute_result"
    }
   ],
   "source": [
    "gato1=Gato(\"gatin\")\n",
    "gato2=Gato(\"gatito\")\n",
    "gato1.nombre\n",
    "gato2.patas, gato1.patas\n",
    "gato1.orejas=4\n",
    "gato1.orejas,gato2.orejas\n",
    "# La respuesta es que gato1 tiene 4 orejas y gato2 tiene 2\n",
    "# Esto se debe a que los atributos de clase se comparten entre todos los objetos de la\n",
    "# clase, a menos que se sobreescriban en un objeto en particular. En este caso\n",
    "# se sobreescribió el atributo orejas en gato1, pero no en\n",
    "#gato2. Por lo tanto, gato2 sigue\n",
    "# utilizando el valor de clase que es 2."
   ]
  },
  {
   "cell_type": "code",
   "execution_count": 27,
   "metadata": {},
   "outputs": [],
   "source": [
    "class Persona:\n",
    "    piernas=2\n",
    "    brazos=2\n",
    "    def __init__(self,nombre):\n",
    "        self.nombre=nombre\n",
    "       \n",
    "\n",
    "\n",
    "    def saludar(self):\n",
    "        return(\"Hola, mi nombre es \" + self.nombre)\n",
    "persona1=Persona(\"LUZ\")\n",
    "persona1.nombre\n",
    "persona1.brazos\n",
    "persona2=Persona(\"gustavo\")"
   ]
  },
  {
   "cell_type": "code",
   "execution_count": 28,
   "metadata": {},
   "outputs": [
    {
     "data": {
      "text/plain": [
       "'Hola, mi nombre es gustavo'"
      ]
     },
     "execution_count": 28,
     "metadata": {},
     "output_type": "execute_result"
    }
   ],
   "source": [
    "persona2.saludar()"
   ]
  },
  {
   "cell_type": "code",
   "execution_count": 4,
   "metadata": {},
   "outputs": [],
   "source": [
    "class Vehiculo:\n",
    "    def __init__(self,marca,modelo):\n",
    "        self.marca = marca\n",
    "        self.modelo = modelo\n",
    "    \n",
    "class Animal:\n",
    "    def __init__(self,nombre,edad,especie):\n",
    "     self.nombre = nombre\n",
    "     self.edad = edad\n",
    "     self.especie = especie"
   ]
  },
  {
   "cell_type": "code",
   "execution_count": 21,
   "metadata": {},
   "outputs": [
    {
     "data": {
      "text/plain": [
       "'gustavo está estudiando en politecnico malvinas argentinas'"
      ]
     },
     "execution_count": 21,
     "metadata": {},
     "output_type": "execute_result"
    }
   ],
   "source": [
    "class Estudiante(Persona):\n",
    "    def __init__(self, nombre: str, escuela: str):\n",
    "        \n",
    "        super().__init__(nombre)\n",
    "        self.escuela = escuela\n",
    "\n",
    "    def estudiar(self) -> str:\n",
    "        \n",
    "        return f\"{self.nombre} está estudiando en {self.escuela}\"\n",
    "\n",
    "estudiante1= Estudiante(\"gustavo\",\"politecnico malvinas argentinas\")\n",
    "estudiante2= Estudiante(\"juan\",\"universidad de buenos aires\")\n",
    "estudiante3= Estudiante(\"pedro\",\"universidad de la plata\")\n",
    "estudiante1.estudiar()"
   ]
  },
  {
   "cell_type": "code",
   "execution_count": 22,
   "metadata": {},
   "outputs": [],
   "source": [
    "class Empleado(Persona):\n",
    "    def __init__(self,nombre,empresa):\n",
    "        super().__init__(nombre)\n",
    "        self.empresa = empresa\n",
    "\n",
    "    def trabajar(self):\n",
    "        print(f\"{self.nombre} está trabajando en {self.empresa}\")"
   ]
  },
  {
   "cell_type": "code",
   "execution_count": 33,
   "metadata": {},
   "outputs": [
    {
     "data": {
      "text/plain": [
       "'JUAN está trabajando en IATEC'"
      ]
     },
     "execution_count": 33,
     "metadata": {},
     "output_type": "execute_result"
    }
   ],
   "source": [
    "empleado1=Empleado(\"GUSTAVO\",\"IATEC\")\n",
    "empleado2=Empleado(\"JUAN\",\"IATEC\")\n",
    "empleado1.trabajar()\n",
    "empleado2.trabajar()"
   ]
  }
 ],
 "metadata": {
  "kernelspec": {
   "display_name": "Python 3",
   "language": "python",
   "name": "python3"
  },
  "language_info": {
   "codemirror_mode": {
    "name": "ipython",
    "version": 3
   },
   "file_extension": ".py",
   "mimetype": "text/x-python",
   "name": "python",
   "nbconvert_exporter": "python",
   "pygments_lexer": "ipython3",
   "version": "3.10.13"
  }
 },
 "nbformat": 4,
 "nbformat_minor": 2
}
