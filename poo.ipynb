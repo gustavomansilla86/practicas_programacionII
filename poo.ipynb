{
 "cells": [
  {
   "cell_type": "code",
   "execution_count": 26,
   "metadata": {},
   "outputs": [],
   "source": [
    "class Choche:\n",
    "    def __init__(self,color,marca,modelo):\n",
    "        self.color=color\n",
    "        self.marca=marca\n",
    "        self.modelo=modelo"
   ]
  },
  {
   "cell_type": "code",
   "execution_count": 1,
   "metadata": {},
   "outputs": [
    {
     "ename": "NameError",
     "evalue": "name 'Choche' is not defined",
     "output_type": "error",
     "traceback": [
      "\u001b[1;31m---------------------------------------------------------------------------\u001b[0m",
      "\u001b[1;31mNameError\u001b[0m                                 Traceback (most recent call last)",
      "Cell \u001b[1;32mIn[1], line 1\u001b[0m\n\u001b[1;32m----> 1\u001b[0m coche1\u001b[38;5;241m=\u001b[39m\u001b[43mChoche\u001b[49m(color\u001b[38;5;241m=\u001b[39m\u001b[38;5;124m\"\u001b[39m\u001b[38;5;124mazul\u001b[39m\u001b[38;5;124m\"\u001b[39m,marca\u001b[38;5;241m=\u001b[39m\u001b[38;5;124m\"\u001b[39m\u001b[38;5;124mrenaul\u001b[39m\u001b[38;5;124m\"\u001b[39m,modelo\u001b[38;5;241m=\u001b[39m\u001b[38;5;124m\"\u001b[39m\u001b[38;5;124mkoleos\u001b[39m\u001b[38;5;124m\"\u001b[39m)\n\u001b[0;32m      2\u001b[0m coche2\u001b[38;5;241m=\u001b[39mChoche(color\u001b[38;5;241m=\u001b[39m\u001b[38;5;124m\"\u001b[39m\u001b[38;5;124mrojo\u001b[39m\u001b[38;5;124m\"\u001b[39m,marca\u001b[38;5;241m=\u001b[39m\u001b[38;5;124m\"\u001b[39m\u001b[38;5;124mford\u001b[39m\u001b[38;5;124m\"\u001b[39m,modelo\u001b[38;5;241m=\u001b[39m\u001b[38;5;124m\"\u001b[39m\u001b[38;5;124mfocus\u001b[39m\u001b[38;5;124m\"\u001b[39m)\n\u001b[0;32m      3\u001b[0m coche1\u001b[38;5;241m.\u001b[39mcolor\n",
      "\u001b[1;31mNameError\u001b[0m: name 'Choche' is not defined"
     ]
    }
   ],
   "source": [
    "coche1=Choche(color=\"azul\",marca=\"renaul\",modelo=\"koleos\")\n",
    "coche2=Choche(color=\"rojo\",marca=\"ford\",modelo=\"focus\")\n",
    "coche1.color\n",
    "coche2.modelo\n",
    "coche2.marca\n",
    "coche3=Choche(\"verde\",\"fiat\",\"cronos\")\n",
    "coche3.color\n",
    "print(coche2.modelo)\n",
    "print(coche3.modelo)\n",
    "print(coche1.color)"
   ]
  },
  {
   "cell_type": "code",
   "execution_count": 28,
   "metadata": {},
   "outputs": [
    {
     "name": "stdout",
     "output_type": "stream",
     "text": [
      "[]\n"
     ]
    }
   ],
   "source": [
    "class Gato:\n",
    "    patas= 4\n",
    "    orejas =2\n",
    "    nombres=[]\n",
    "    def __init__(self,nombre):\n",
    "        self.nombre=nombre\n",
    "        self.nombres.append(nombre)\n",
    "    print(nombres)"
   ]
  },
  {
   "cell_type": "code",
   "execution_count": 29,
   "metadata": {},
   "outputs": [
    {
     "data": {
      "text/plain": [
       "(4, 2)"
      ]
     },
     "execution_count": 29,
     "metadata": {},
     "output_type": "execute_result"
    }
   ],
   "source": [
    "gato1=Gato(\"gatin\")\n",
    "gato2=Gato(\"gatito\")\n",
    "gato1.nombre\n",
    "gato2.patas, gato1.patas\n",
    "gato1.orejas=4\n",
    "gato1.orejas,gato2.orejas\n",
    "# La respuesta es que gato1 tiene 4 orejas y gato2 tiene 2\n",
    "# Esto se debe a que los atributos de clase se comparten entre todos los objetos de la\n",
    "# clase, a menos que se sobreescriban en un objeto en particular. En este caso\n",
    "# se sobreescribió el atributo orejas en gato1, pero no en\n",
    "#gato2. Por lo tanto, gato2 sigue\n",
    "# utilizando el valor de clase que es 2."
   ]
  },
  {
   "cell_type": "code",
   "execution_count": 23,
   "metadata": {},
   "outputs": [],
   "source": [
    "class Persona:\n",
    "    def __init__(self,nombre):\n",
    "        self.nombre=nombre\n",
    "       \n",
    "\n",
    "\n",
    "    def saludar(self):\n",
    "        print(\"Hola, mi nombre es \" + self.nombre)\n",
    "persona1=Persona(\"LUZ\")\n",
    "\n",
    "persona2=Persona(\"gustavo\")"
   ]
  },
  {
   "cell_type": "code",
   "execution_count": 15,
   "metadata": {},
   "outputs": [],
   "source": [
    "class Estudiante(Persona):\n",
    "    def __init__(self, nombre: str, escuela: str):\n",
    "        \n",
    "        super().__init__(nombre)\n",
    "        self.escuela = escuela\n",
    "\n",
    "    def estudiar(self):\n",
    "        \n",
    "        return f\"{self.nombre} está estudiando en {self.escuela}\"\n",
    "\n"
   ]
  },
  {
   "cell_type": "code",
   "execution_count": 16,
   "metadata": {},
   "outputs": [
    {
     "data": {
      "text/plain": [
       "'gustavo está estudiando en politecnico malvinas argentinas'"
      ]
     },
     "execution_count": 16,
     "metadata": {},
     "output_type": "execute_result"
    }
   ],
   "source": [
    "estudiante1= Estudiante(\"gustavo\",\"politecnico malvinas argentinas\")\n",
    "estudiante2= Estudiante(\"juan\",\"universidad de buenos aires\")\n",
    "estudiante3= Estudiante(\"pedro\",\"universidad de la plata\")\n",
    "estudiante1.estudiar()"
   ]
  },
  {
   "cell_type": "code",
   "execution_count": 39,
   "metadata": {},
   "outputs": [],
   "source": [
    "class Empleado(Persona):\n",
    "      def __init__(self,nombre,empresa):\n",
    "        super().__init__(nombre)\n",
    "        self.empresa = empresa\n",
    "\n",
    "      def trabajar(self):\n",
    "         print(super().saludar())\n",
    "         print(f\"y estoy trabajando en {self.empresa}\")\n",
    "     "
   ]
  },
  {
   "cell_type": "code",
   "execution_count": 40,
   "metadata": {},
   "outputs": [
    {
     "name": "stdout",
     "output_type": "stream",
     "text": [
      "Hola, mi nombre es GUSTAVO\n",
      "y estoy trabajando en IATEC\n"
     ]
    }
   ],
   "source": [
    "empleado1=Empleado(\"GUSTAVO\",\"IATEC\")\n",
    "empleado2=Empleado(\"JUAN\",\"IATEC\")\n",
    "empleado1.trabajar()\n"
   ]
  },
  {
   "cell_type": "markdown",
   "metadata": {},
   "source": [
    "Crea una clase \"Profesor\" que herede de \"Empleado\" y tenga\n",
    "atributos adicionales como \"materia\" y \"experiencia\".\n",
    "Agrega métodos para imprimir la información del profesor."
   ]
  },
  {
   "cell_type": "code",
   "execution_count": 41,
   "metadata": {},
   "outputs": [],
   "source": [
    "class Profesor(Empleado):\n",
    "    def __init__(self, nombre,empresa, apellido, materia,experiencia):\n",
    "        super().__init__(nombre,empresa)\n",
    "        self.apellido = apellido\n",
    "        self.materia=materia\n",
    "        self.experiencia=experiencia\n",
    "    \n",
    "    def informacion(self):\n",
    "        return f\"Nombre: {self.nombre} {self.apellido} trabajo en {self.empresa} y dicto la {self.materia} y cuento con experiencia en {self.experiencia}\""
   ]
  },
  {
   "cell_type": "code",
   "execution_count": 43,
   "metadata": {},
   "outputs": [
    {
     "data": {
      "text/plain": [
       "'Nombre: gustavo mansilla trabajo en politecnico mavinas argentinas y dicto la programacion y cuento con experiencia en 2 años'"
      ]
     },
     "execution_count": 43,
     "metadata": {},
     "output_type": "execute_result"
    }
   ],
   "source": [
    "\n",
    "profesor2=Profesor(\"juan\",\"universidad de cordoba\",\"cordoba\",\"matematica\",\"1 año\")\n",
    "profesor1.informacion()\n"
   ]
  },
  {
   "cell_type": "code",
   "execution_count": 99,
   "metadata": {},
   "outputs": [],
   "source": [
    "class Vehiculo:\n",
    "   def __init__(self,marca,modelo,anio):\n",
    "        self.marca = marca\n",
    "        self.modelo = modelo\n",
    "        self.anio=anio\n",
    "   def info(self):\n",
    "         print (f\"Vehiculo {self.marca}\\n modelo{self.modelo}\\n año {self.anio}\")\n",
    "\n"
   ]
  },
  {
   "cell_type": "code",
   "execution_count": 94,
   "metadata": {},
   "outputs": [],
   "source": [
    "class Auto(Vehiculo):\n",
    "    def __init__(self,marca,modelo,anio,velocidad,color):\n",
    "     super().__init__(marca,modelo,anio)\n",
    "     self.velocidad=velocidad\n",
    "     self.color=color\n",
    "\n",
    "    \n",
    "    def informacion(self):\n",
    "        super().info()\n",
    "        print(f\"tiene una velocidad maxima de {self.velocidad}, y es de color {self.color} \")\n",
    "\n",
    "class Moto(Vehiculo):\n",
    "    def __init__(self,marca,modelo,anio,cilindrada,tipo):\n",
    "        super().__init__(marca,modelo,anio)\n",
    "        self.cilindrada=cilindrada\n",
    "        self.tipo=tipo\n",
    "    def informacion(self):\n",
    "        print(\"Soy una moto\")\n",
    "        print(f\"Marca: {self.marca} con {self.cilindrada}\\n del tipo {self.tipo}\")\n",
    "        \n",
    "\n",
    "         "
   ]
  },
  {
   "cell_type": "code",
   "execution_count": 98,
   "metadata": {},
   "outputs": [
    {
     "name": "stdout",
     "output_type": "stream",
     "text": [
      "Vehiculo fiat cronos del año 2022\n",
      "tiene una velocidad maxima de 200, y es de color blanco \n"
     ]
    }
   ],
   "source": [
    "auto1=Auto(\"fiat\",\"cronos\",2022,200,\"blanco\")\n",
    "auto1.informacion()"
   ]
  },
  {
   "cell_type": "code",
   "execution_count": 71,
   "metadata": {},
   "outputs": [
    {
     "name": "stdout",
     "output_type": "stream",
     "text": [
      "Soy una moto\n",
      "Marca: kawasaki con 250\n",
      " del tipo stree\n"
     ]
    }
   ],
   "source": [
    "moto1=Moto(\"kawasaki\",\"ciclomotor\",2023,250,\"stree\")\n",
    "moto1.informacion()"
   ]
  },
  {
   "cell_type": "markdown",
   "metadata": {},
   "source": [
    "Crea una clase \"Perro\" que herede de \"Animal\" y tenga un atributo\n",
    "adicional \"raza\". Agrega métodos para imprimir la información del\n",
    "gato.\n"
   ]
  },
  {
   "cell_type": "code",
   "execution_count": 2,
   "metadata": {},
   "outputs": [],
   "source": [
    "class Animal:\n",
    "    def __init__(self,nombre,especie):\n",
    "        self.nombre = nombre\n",
    "        self.especie = especie\n",
    "    \n",
    "    \n"
   ]
  },
  {
   "cell_type": "code",
   "execution_count": 6,
   "metadata": {},
   "outputs": [],
   "source": [
    "class Perro(Animal):\n",
    "    def __init__(self, nombre,especie, raza):\n",
    "        super().__init__(nombre,especie)\n",
    "        self.raza = raza\n",
    "    def informacion(self):\n",
    "        return f\"El perro {self.nombre} es de la raza {self.raza}\"\n"
   ]
  },
  {
   "cell_type": "code",
   "execution_count": 7,
   "metadata": {},
   "outputs": [
    {
     "data": {
      "text/plain": [
       "'El perro LUNA es de la raza MESTIZA'"
      ]
     },
     "execution_count": 7,
     "metadata": {},
     "output_type": "execute_result"
    }
   ],
   "source": [
    "perro1=Perro(\"LUNA\",\"MAMIFERA\",\"MESTIZA\")\n",
    "perro1.informacion()"
   ]
  },
  {
   "cell_type": "code",
   "execution_count": 6,
   "metadata": {},
   "outputs": [],
   "source": [
    "class Empleado:\n",
    "    def __init__(self, nombre, apellido, puesto, salario,legajo,fecha_de_alta):\n",
    "        self.nombre = nombre\n",
    "        self.apellido = apellido\n",
    "        self.puesto = puesto\n",
    "        self.salario = salario\n",
    "        self.legajo = legajo\n",
    "        self.fecha_de_alta = fecha_de_alta\n",
    "    def informacion_empleado(self):\n",
    "        print(f\"Nombre: {self.nombre} {self.apellido}\\nPuesto: {self.puesto}\\nsalario :{self.salario}\\nlegajo:{self.legajo}\\nfecha de alta: {self.fecha_de_alta}\")"
   ]
  },
  {
   "cell_type": "code",
   "execution_count": 10,
   "metadata": {},
   "outputs": [],
   "source": [
    "class Profesor(Empleado):\n",
    "    def __init__(self, nombre, apellido, puesto, salario,legajo,fecha_de_alta,materia,experiencia):\n",
    "        super().__init__(nombre, apellido, puesto, salario,legajo,fecha_de_alta)\n",
    "        self.materia=materia\n",
    "        self.experiencia =experiencia\n",
    "    \n",
    "    def informacion_profesor(self):\n",
    "        super().informacion_empleado()\n",
    "        print(f\"dicta {self.materia}\\ntiene {self.experiencia}\")"
   ]
  },
  {
   "cell_type": "code",
   "execution_count": 11,
   "metadata": {},
   "outputs": [
    {
     "name": "stdout",
     "output_type": "stream",
     "text": [
      "Nombre: gustavo mansilla\n",
      "Puesto: operario\n",
      "salario :120000\n",
      "legajo:1198\n",
      "fecha de alta: 25-09-2012\n",
      "dicta programacion\n",
      "tiene 2 años\n"
     ]
    }
   ],
   "source": [
    "profesor1=Profesor(\"gustavo\",\"mansilla\",\"operario\",120000,1198,\"25-09-2012\",\"programacion\",\"2 años\")\n",
    "profesor1.informacion_profesor()"
   ]
  }
 ],
 "metadata": {
  "kernelspec": {
   "display_name": "Python 3",
   "language": "python",
   "name": "python3"
  },
  "language_info": {
   "codemirror_mode": {
    "name": "ipython",
    "version": 3
   },
   "file_extension": ".py",
   "mimetype": "text/x-python",
   "name": "python",
   "nbconvert_exporter": "python",
   "pygments_lexer": "ipython3",
   "version": "3.11.9"
  }
 },
 "nbformat": 4,
 "nbformat_minor": 2
}
