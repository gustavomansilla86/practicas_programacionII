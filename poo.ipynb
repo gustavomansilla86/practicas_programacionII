{
 "cells": [
  {
   "cell_type": "code",
   "execution_count": null,
   "metadata": {},
   "outputs": [],
   "source": [
    "class Vehiculo:\n",
    "    def __init__(self, marca, modelo, año, km, precio):\n",
    "        self.marca = marca\n",
    "        self.modelo = modelo\n",
    "        self.año=año\n",
    "        self.km = km\n",
    "        self.precio=precio\n",
    " \n",
    "    class Auto:\n",
    "        "
   ]
  }
 ],
 "metadata": {
  "language_info": {
   "name": "python"
  }
 },
 "nbformat": 4,
 "nbformat_minor": 2
}
